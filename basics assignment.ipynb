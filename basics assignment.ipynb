{
 "cells": [
  {
   "cell_type": "code",
   "execution_count": 1,
   "id": "b53f7ddc",
   "metadata": {},
   "outputs": [
    {
     "name": "stdout",
     "output_type": "stream",
     "text": [
      "/n\n"
     ]
    }
   ],
   "source": [
    "print(\"/n\")"
   ]
  },
  {
   "cell_type": "code",
   "execution_count": 6,
   "id": "44e5f93c",
   "metadata": {
    "scrolled": true
   },
   "outputs": [
    {
     "name": "stdout",
     "output_type": "stream",
     "text": [
      "\\n\n"
     ]
    }
   ],
   "source": [
    "x=(\"\\\\n\")\n",
    "print(x)"
   ]
  },
  {
   "cell_type": "code",
   "execution_count": 10,
   "id": "ae36c86b",
   "metadata": {},
   "outputs": [
    {
     "name": "stdout",
     "output_type": "stream",
     "text": [
      "enter the radius of the circle12\n",
      "the area of circle is 452.15999999999997\n"
     ]
    }
   ],
   "source": [
    "r=int(input(\"enter the radius of the circle\"))\n",
    "print(\"the area of circle\",\"is\",3.14*r*r)"
   ]
  },
  {
   "cell_type": "code",
   "execution_count": 18,
   "id": "25ff7564",
   "metadata": {},
   "outputs": [
    {
     "name": "stdout",
     "output_type": "stream",
     "text": [
      "volume of sphere is 904.3199999999998\n"
     ]
    }
   ],
   "source": [
    "r=6\n",
    "print(\"volume of sphere\",\"is\",4.0/3.0*3.14*r*r*r)"
   ]
  },
  {
   "cell_type": "code",
   "execution_count": 36,
   "id": "3699fe98",
   "metadata": {},
   "outputs": [
    {
     "name": "stdout",
     "output_type": "stream",
     "text": [
      "the result is 48\n"
     ]
    }
   ],
   "source": [
    "x=8\n",
    "y=7\n",
    "z=1\n",
    "result=(x+y+z)*(3)\n",
    "print(\"the result is\",result)"
   ]
  },
  {
   "cell_type": "code",
   "execution_count": 25,
   "id": "4adb5c69",
   "metadata": {},
   "outputs": [
    {
     "name": "stdout",
     "output_type": "stream",
     "text": [
      "enter the value of base12\n",
      "enter the value of hieght11\n",
      "volume of triange = 66.0\n"
     ]
    }
   ],
   "source": [
    "x=int(input(\"enter the value of base\"))\n",
    "y=int(input(\"enter the value of hieght\"))\n",
    "print(\"volume of triange\",\"=\",1/2*x*y)"
   ]
  },
  {
   "cell_type": "code",
   "execution_count": 35,
   "id": "d6577d31",
   "metadata": {},
   "outputs": [
    {
     "name": "stdout",
     "output_type": "stream",
     "text": [
      "the result is 49\n"
     ]
    }
   ],
   "source": [
    "x=4\n",
    "y=3\n",
    "result=(x+y)*(x+y)\n",
    "print(\"the result is\",result)"
   ]
  },
  {
   "cell_type": "code",
   "execution_count": 37,
   "id": "4fcf6d23",
   "metadata": {},
   "outputs": [
    {
     "name": "stdout",
     "output_type": "stream",
     "text": [
      "the simple interest is 2450.0\n"
     ]
    }
   ],
   "source": [
    "p=10000\n",
    "r=3.5\n",
    "t=7\n",
    "result=p*r*t/100\n",
    "print(\"the simple interest is\",result)"
   ]
  },
  {
   "cell_type": "code",
   "execution_count": 45,
   "id": "48665931",
   "metadata": {},
   "outputs": [
    {
     "ename": "TypeError",
     "evalue": "'float' object is not callable",
     "output_type": "error",
     "traceback": [
      "\u001b[1;31m---------------------------------------------------------------------------\u001b[0m",
      "\u001b[1;31mTypeError\u001b[0m                                 Traceback (most recent call last)",
      "Cell \u001b[1;32mIn[45], line 4\u001b[0m\n\u001b[0;32m      2\u001b[0m float_number\u001b[38;5;241m=\u001b[39m\u001b[38;5;28mfloat\u001b[39m(input_string)\n\u001b[0;32m      3\u001b[0m integer_number\u001b[38;5;241m=\u001b[39m\u001b[38;5;28mint\u001b[39m(float_number)\n\u001b[1;32m----> 4\u001b[0m \u001b[38;5;28mprint\u001b[39m(\u001b[38;5;124m\"\u001b[39m\u001b[38;5;124mresult\u001b[39m\u001b[38;5;124m\"\u001b[39m,integer_number)\n",
      "\u001b[1;31mTypeError\u001b[0m: 'float' object is not callable"
     ]
    }
   ],
   "source": [
    "input_string=\"246.2458\"\n",
    "float_number=float(input_string)\n",
    "integer_number=int(float_number)\n",
    "print(\"result\",integer_number)"
   ]
  },
  {
   "cell_type": "code",
   "execution_count": 49,
   "id": "7fb2447e",
   "metadata": {},
   "outputs": [
    {
     "name": "stdout",
     "output_type": "stream",
     "text": [
      "enter the value of p11\n",
      "enter the value of b12\n"
     ]
    },
    {
     "ename": "TypeError",
     "evalue": "'float' object is not callable",
     "output_type": "error",
     "traceback": [
      "\u001b[1;31m---------------------------------------------------------------------------\u001b[0m",
      "\u001b[1;31mTypeError\u001b[0m                                 Traceback (most recent call last)",
      "Cell \u001b[1;32mIn[49], line 4\u001b[0m\n\u001b[0;32m      2\u001b[0m y\u001b[38;5;241m=\u001b[39m\u001b[38;5;28mint\u001b[39m(\u001b[38;5;28minput\u001b[39m(\u001b[38;5;124m\"\u001b[39m\u001b[38;5;124menter the value of b\u001b[39m\u001b[38;5;124m\"\u001b[39m))\n\u001b[0;32m      3\u001b[0m result\u001b[38;5;241m=\u001b[39m(x\u001b[38;5;241m*\u001b[39m\u001b[38;5;241m*\u001b[39m\u001b[38;5;241m2\u001b[39m\u001b[38;5;241m+\u001b[39my\u001b[38;5;241m*\u001b[39m\u001b[38;5;241m*\u001b[39m\u001b[38;5;241m2\u001b[39m)\n\u001b[1;32m----> 4\u001b[0m \u001b[38;5;28mprint\u001b[39m(result)\n",
      "\u001b[1;31mTypeError\u001b[0m: 'float' object is not callable"
     ]
    }
   ],
   "source": [
    "x=int(input(\"enter the value of p\"))\n",
    "y=int(input(\"enter the value of b\"))\n",
    "result=(x**2+y**2)\n",
    "print(result)"
   ]
  },
  {
   "cell_type": "code",
   "execution_count": 53,
   "id": "e62459a8",
   "metadata": {},
   "outputs": [
    {
     "ename": "TypeError",
     "evalue": "'float' object is not callable",
     "output_type": "error",
     "traceback": [
      "\u001b[1;31m---------------------------------------------------------------------------\u001b[0m",
      "\u001b[1;31mTypeError\u001b[0m                                 Traceback (most recent call last)",
      "Cell \u001b[1;32mIn[53], line 4\u001b[0m\n\u001b[0;32m      2\u001b[0m x\u001b[38;5;241m=\u001b[39m\u001b[38;5;241m1\u001b[39m\n\u001b[0;32m      3\u001b[0m result\u001b[38;5;241m=\u001b[39m(a\u001b[38;5;241m==\u001b[39mx,x\u001b[38;5;241m==\u001b[39ma)\n\u001b[1;32m----> 4\u001b[0m \u001b[38;5;28mprint\u001b[39m(result)\n",
      "\u001b[1;31mTypeError\u001b[0m: 'float' object is not callable"
     ]
    }
   ],
   "source": [
    "a=77\n",
    "x=1\n",
    "result=(a==x,x==a)\n",
    "print(result)\n"
   ]
  },
  {
   "cell_type": "code",
   "execution_count": 55,
   "id": "0fd1913e",
   "metadata": {},
   "outputs": [
    {
     "ename": "TypeError",
     "evalue": "'float' object is not callable",
     "output_type": "error",
     "traceback": [
      "\u001b[1;31m---------------------------------------------------------------------------\u001b[0m",
      "\u001b[1;31mTypeError\u001b[0m                                 Traceback (most recent call last)",
      "Cell \u001b[1;32mIn[55], line 4\u001b[0m\n\u001b[0;32m      1\u001b[0m a\u001b[38;5;241m=\u001b[39m\u001b[38;5;241m77\u001b[39m\n\u001b[0;32m      2\u001b[0m x\u001b[38;5;241m=\u001b[39m\u001b[38;5;241m1\u001b[39m\n\u001b[1;32m----> 4\u001b[0m \u001b[38;5;28mprint\u001b[39m(\u001b[38;5;124m\"\u001b[39m\u001b[38;5;124ma=\u001b[39m\u001b[38;5;124m\"\u001b[39m,a)\n\u001b[0;32m      5\u001b[0m \u001b[38;5;28mprint\u001b[39m(\u001b[38;5;124m\"\u001b[39m\u001b[38;5;124mx=\u001b[39m\u001b[38;5;124m\"\u001b[39m,x)\n\u001b[0;32m      6\u001b[0m temp\u001b[38;5;241m=\u001b[39ma\n",
      "\u001b[1;31mTypeError\u001b[0m: 'float' object is not callable"
     ]
    }
   ],
   "source": [
    "a=77\n",
    "x=1\n",
    "\n",
    "print(\"a=\",a)\n",
    "print(\"x=\",x)\n",
    "\n",
    "print(\"\\n after swapping:\")\n",
    "print(\"a=\",a)\n",
    "print(\"x=\",x)"
   ]
  },
  {
   "cell_type": "code",
   "execution_count": 7,
   "id": "00cb2c19",
   "metadata": {},
   "outputs": [
    {
     "name": "stdout",
     "output_type": "stream",
     "text": [
      "enter the number13\n",
      "the cube of x is 2197\n"
     ]
    }
   ],
   "source": [
    "x=int(input(\"enter the number\"))\n",
    "result=x**3\n",
    "print(\"the cube of x\",\"is\",result)"
   ]
  },
  {
   "cell_type": "code",
   "execution_count": 8,
   "id": "dd258bcb",
   "metadata": {},
   "outputs": [
    {
     "name": "stdout",
     "output_type": "stream",
     "text": [
      "\\n\n"
     ]
    }
   ],
   "source": [
    "x=(\"\\\\n\")\n",
    "print(x)"
   ]
  },
  {
   "cell_type": "code",
   "execution_count": 1,
   "id": "e5a4f5f8",
   "metadata": {},
   "outputs": [
    {
     "name": "stdout",
     "output_type": "stream",
     "text": [
      "enter perpendicular3\n",
      "enter base4\n",
      "5.0\n"
     ]
    }
   ],
   "source": [
    "b=int(input(\"enter perpendicular\"))\n",
    "a=int(input(\"enter base\"))\n",
    "c=(a**2+b**2)**0.5\n",
    "print(c)"
   ]
  },
  {
   "cell_type": "code",
   "execution_count": 2,
   "id": "927aacd3",
   "metadata": {},
   "outputs": [
    {
     "name": "stdout",
     "output_type": "stream",
     "text": [
      "a 1\n",
      "x 77\n"
     ]
    }
   ],
   "source": [
    "a=77\n",
    "x=1\n",
    "c=x\n",
    "x=a\n",
    "a=c\n",
    "print(\"a\",a)\n",
    "print(\"x\",x)"
   ]
  },
  {
   "cell_type": "code",
   "execution_count": null,
   "id": "3c9d14fd",
   "metadata": {},
   "outputs": [],
   "source": []
  }
 ],
 "metadata": {
  "kernelspec": {
   "display_name": "Python 3 (ipykernel)",
   "language": "python",
   "name": "python3"
  },
  "language_info": {
   "codemirror_mode": {
    "name": "ipython",
    "version": 3
   },
   "file_extension": ".py",
   "mimetype": "text/x-python",
   "name": "python",
   "nbconvert_exporter": "python",
   "pygments_lexer": "ipython3",
   "version": "3.11.4"
  }
 },
 "nbformat": 4,
 "nbformat_minor": 5
}
