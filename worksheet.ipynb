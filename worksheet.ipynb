{
 "cells": [
  {
   "cell_type": "code",
   "execution_count": 1,
   "id": "298e5d43",
   "metadata": {},
   "outputs": [
    {
     "name": "stdout",
     "output_type": "stream",
     "text": [
      "2\n",
      "4\n",
      "6\n",
      "8\n",
      "10\n"
     ]
    }
   ],
   "source": [
    "num=2\n",
    "while(num<=10):\n",
    "    print(num)\n",
    "    num=num+2"
   ]
  },
  {
   "cell_type": "code",
   "execution_count": 2,
   "id": "2f913f70",
   "metadata": {},
   "outputs": [
    {
     "name": "stdout",
     "output_type": "stream",
     "text": [
      "1\n",
      "3\n",
      "5\n",
      "7\n",
      "9\n"
     ]
    }
   ],
   "source": [
    "num=1\n",
    "while(num<=10):\n",
    "    print(num)\n",
    "    num=num+2"
   ]
  },
  {
   "cell_type": "code",
   "execution_count": 4,
   "id": "313d2c1c",
   "metadata": {},
   "outputs": [
    {
     "name": "stdout",
     "output_type": "stream",
     "text": [
      "1\n",
      "2\n",
      "3\n",
      "4\n",
      "5\n",
      "6\n",
      "7\n",
      "8\n",
      "9\n",
      "10\n"
     ]
    }
   ],
   "source": [
    "num=1\n",
    "while(num<=10):\n",
    "    print(num)\n",
    "    num=num+1\n"
   ]
  },
  {
   "cell_type": "code",
   "execution_count": 5,
   "id": "f94ef74c",
   "metadata": {},
   "outputs": [
    {
     "name": "stdout",
     "output_type": "stream",
     "text": [
      "0\n",
      "1\n",
      "2\n",
      "3\n",
      "4\n",
      "5\n",
      "6\n",
      "7\n",
      "8\n",
      "9\n",
      "10\n"
     ]
    }
   ],
   "source": [
    "num=0\n",
    "while(num<=10):\n",
    "    print(num)\n",
    "    num=num+1"
   ]
  },
  {
   "cell_type": "code",
   "execution_count": 10,
   "id": "4cea35fb",
   "metadata": {},
   "outputs": [
    {
     "name": "stdout",
     "output_type": "stream",
     "text": [
      "1 1\n",
      "2 4\n",
      "3 9\n",
      "4 16\n",
      "5 25\n",
      "6 36\n",
      "7 49\n",
      "8 64\n",
      "9 81\n",
      "10 100\n"
     ]
    }
   ],
   "source": [
    "num=1\n",
    "\n",
    "while(num<=10):\n",
    "    print(num,num**2)\n",
    "    num=num+1\n",
    "    \n",
    "    "
   ]
  },
  {
   "cell_type": "code",
   "execution_count": 12,
   "id": "5a9e614b",
   "metadata": {},
   "outputs": [
    {
     "name": "stdout",
     "output_type": "stream",
     "text": [
      "10\n",
      "20\n",
      "30\n",
      "40\n",
      "50\n",
      "60\n",
      "70\n",
      "80\n",
      "90\n",
      "100\n",
      "110\n",
      "120\n",
      "130\n",
      "140\n",
      "150\n",
      "160\n",
      "170\n",
      "180\n",
      "190\n",
      "200\n",
      "210\n",
      "220\n",
      "230\n",
      "240\n",
      "250\n",
      "260\n",
      "270\n",
      "280\n",
      "290\n",
      "300\n"
     ]
    }
   ],
   "source": [
    "for i in range(10,301,10):\n",
    "    print(i)"
   ]
  },
  {
   "cell_type": "code",
   "execution_count": 15,
   "id": "cb36ca64",
   "metadata": {},
   "outputs": [
    {
     "name": "stdout",
     "output_type": "stream",
     "text": [
      "105\n",
      "98\n",
      "91\n",
      "84\n",
      "77\n",
      "70\n",
      "63\n",
      "56\n",
      "49\n",
      "42\n",
      "35\n",
      "28\n",
      "21\n",
      "14\n",
      "7\n"
     ]
    }
   ],
   "source": [
    "x=105\n",
    "while(x>=7):\n",
    "    print(x)\n",
    "    x=x-7"
   ]
  },
  {
   "cell_type": "code",
   "execution_count": 19,
   "id": "c48db673",
   "metadata": {},
   "outputs": [
    {
     "name": "stdout",
     "output_type": "stream",
     "text": [
      "Enter x: 12\n",
      "1\n",
      "2\n",
      "3\n",
      "4\n",
      "5\n",
      "6\n",
      "7\n",
      "8\n",
      "9\n",
      "10\n",
      "11\n",
      "12\n",
      "Sum of numbers from 1 to 12 is: 78\n"
     ]
    }
   ],
   "source": [
    "x = int(input(\"Enter x: \"))\n",
    "total_sum = 0\n",
    "\n",
    "for i in range(1, x + 1):\n",
    "    print(i)  \n",
    "    total_sum += i  \n",
    "\n",
    "print(\"Sum of numbers from 1 to\", x, \"is:\", total_sum)"
   ]
  },
  {
   "cell_type": "code",
   "execution_count": null,
   "id": "be77cd15",
   "metadata": {},
   "outputs": [],
   "source": []
  },
  {
   "cell_type": "code",
   "execution_count": 24,
   "id": "fc6e34ff",
   "metadata": {},
   "outputs": [
    {
     "name": "stdout",
     "output_type": "stream",
     "text": [
      "Enter a number (enter 0 to stop): 12\n",
      "Enter a number (enter 0 to stop): 12\n",
      "Enter a number (enter 0 to stop): 67\n",
      "Enter a number (enter 0 to stop): 43\n",
      "Enter a number (enter 0 to stop): 87\n",
      "Enter a number (enter 0 to stop): -98\n",
      "Enter a number (enter 0 to stop): -23\n",
      "Enter a number (enter 0 to stop): -44\n",
      "Enter a number (enter 0 to stop): -89\n",
      "Enter a number (enter 0 to stop): 0\n",
      "Negative sum is -254\n",
      "Negative count is 4\n",
      "Positive sum is 221\n",
      "Positive count is 5\n"
     ]
    }
   ],
   "source": [
    "positivecount = 0\n",
    "positivesum = 0\n",
    "negativecount = 0\n",
    "negativesum = 0\n",
    "\n",
    "while True:\n",
    "    num = int(input(\"Enter a number (enter 0 to stop): \"))\n",
    "    \n",
    "    if num == 0:\n",
    "        break\n",
    "    elif num > 0:\n",
    "        positivecount += 1\n",
    "        positivesum += num\n",
    "    elif num < 0:\n",
    "        negativecount += 1\n",
    "        negativesum += num\n",
    "\n",
    "print(\"Negative sum is\", negativesum)\n",
    "print(\"Negative count is\", negativecount)\n",
    "print(\"Positive sum is\", positivesum)\n",
    "print(\"Positive count is\", positivecount)\n",
    "\n",
    "\n",
    "\n",
    "\n",
    "\n",
    "\n",
    "\n"
   ]
  },
  {
   "cell_type": "code",
   "execution_count": 1,
   "id": "b6b72e9e",
   "metadata": {},
   "outputs": [
    {
     "name": "stdout",
     "output_type": "stream",
     "text": [
      "divisible by 13 but not by 3 104\n",
      "divisible by 13 but not by 3 130\n",
      "divisible by 13 but not by 3 143\n",
      "divisible by 13 but not by 3 169\n",
      "divisible by 13 but not by 3 182\n",
      "divisible by 13 but not by 3 208\n",
      "divisible by 13 but not by 3 221\n",
      "divisible by 13 but not by 3 247\n",
      "divisible by 13 but not by 3 260\n",
      "divisible by 13 but not by 3 286\n",
      "divisible by 13 but not by 3 299\n",
      "divisible by 13 but not by 3 325\n",
      "divisible by 13 but not by 3 338\n",
      "divisible by 13 but not by 3 364\n",
      "divisible by 13 but not by 3 377\n",
      "divisible by 13 but not by 3 403\n",
      "divisible by 13 but not by 3 416\n",
      "divisible by 13 but not by 3 442\n",
      "divisible by 13 but not by 3 455\n",
      "divisible by 13 but not by 3 481\n",
      "divisible by 13 but not by 3 494\n"
     ]
    }
   ],
   "source": [
    "c=0\n",
    "for i in range(101,500):\n",
    "    if i%13==0 and i%3!=0:\n",
    "        print(\"divisible by 13 but not by 3\",i)\n",
    "        \n",
    "        \n",
    "    \n",
    "        \n"
   ]
  },
  {
   "cell_type": "code",
   "execution_count": 28,
   "id": "db0d1f1d",
   "metadata": {},
   "outputs": [
    {
     "name": "stdout",
     "output_type": "stream",
     "text": [
      "10000\n"
     ]
    }
   ],
   "source": []
  },
  {
   "cell_type": "code",
   "execution_count": 29,
   "id": "af113e31",
   "metadata": {},
   "outputs": [
    {
     "name": "stdout",
     "output_type": "stream",
     "text": [
      "1\n",
      "4\n",
      "9\n",
      "16\n",
      "25\n",
      "36\n",
      "49\n",
      "64\n",
      "81\n",
      "100\n"
     ]
    }
   ],
   "source": [
    "n = 10  \n",
    "\n",
    "\n",
    "for i in range(1, n + 1):\n",
    "    print(i * i)"
   ]
  },
  {
   "cell_type": "code",
   "execution_count": 3,
   "id": "08ab5c82",
   "metadata": {},
   "outputs": [
    {
     "name": "stdout",
     "output_type": "stream",
     "text": [
      "Enter a number: 231\n",
      "Invalid input\n",
      "Invalid input\n",
      "Invalid input\n"
     ]
    }
   ],
   "source": [
    "\n",
    "number_names = {\n",
    "    '0'=='Zero',\n",
    "    '1'== 'One',\n",
    "    '2'=='Two',\n",
    "    '3'=='Three',\n",
    "    '4'=='Four',\n",
    "    '5'=='Five',\n",
    "    '6':'Six',\n",
    "    '7': 'Seven',\n",
    "    '8':'Eight',\n",
    "    '9':'Nine'\n",
    "}\n",
    "\n",
    "\n",
    "number = input(\"Enter a number: \")\n",
    "\n",
    "\n",
    "for digit in number:\n",
    "    if \"number_names\" in number:\n",
    "        print(number_names)\n",
    "    else:\n",
    "        print(\"Invalid input\")\n",
    "# print(type(number_names))"
   ]
  },
  {
   "cell_type": "code",
   "execution_count": 36,
   "id": "60a0d843",
   "metadata": {},
   "outputs": [
    {
     "ename": "SyntaxError",
     "evalue": "invalid syntax. Perhaps you forgot a comma? (1771817035.py, line 4)",
     "output_type": "error",
     "traceback": [
      "\u001b[1;36m  Cell \u001b[1;32mIn[36], line 4\u001b[1;36m\u001b[0m\n\u001b[1;33m    print({j}...{50 - j})\u001b[0m\n\u001b[1;37m          ^\u001b[0m\n\u001b[1;31mSyntaxError\u001b[0m\u001b[1;31m:\u001b[0m invalid syntax. Perhaps you forgot a comma?\n"
     ]
    }
   ],
   "source": [
    "\n",
    "\n",
    "         \n",
    "    "
   ]
  },
  {
   "cell_type": "code",
   "execution_count": 7,
   "id": "386d4193",
   "metadata": {},
   "outputs": [
    {
     "name": "stdout",
     "output_type": "stream",
     "text": [
      "enter the number123\n",
      "one\n",
      "two\n",
      "three\n"
     ]
    }
   ],
   "source": [
    "n=int(input(\"enter the number\"))\n",
    "a=str(n)\n",
    "for i in a:\n",
    "    if i==\"1\":\n",
    "        print(\"one\")\n",
    "    elif i==\"2\":\n",
    "        print(\"two\")\n",
    "    elif i==\"3\":\n",
    "        print(\"three\")"
   ]
  },
  {
   "cell_type": "code",
   "execution_count": 8,
   "id": "d520b0aa",
   "metadata": {},
   "outputs": [
    {
     "name": "stdout",
     "output_type": "stream",
     "text": [
      "enter n49\n",
      "1 ... 49\n",
      "2 ... 48\n",
      "3 ... 47\n",
      "4 ... 46\n",
      "5 ... 45\n",
      "6 ... 44\n",
      "7 ... 43\n",
      "8 ... 42\n",
      "9 ... 41\n",
      "10 ... 40\n",
      "11 ... 39\n",
      "12 ... 38\n",
      "13 ... 37\n",
      "14 ... 36\n",
      "15 ... 35\n",
      "16 ... 34\n",
      "17 ... 33\n",
      "18 ... 32\n",
      "19 ... 31\n",
      "20 ... 30\n",
      "21 ... 29\n",
      "22 ... 28\n",
      "23 ... 27\n",
      "24 ... 26\n",
      "25 ... 25\n",
      "26 ... 24\n",
      "27 ... 23\n",
      "28 ... 22\n",
      "29 ... 21\n",
      "30 ... 20\n",
      "31 ... 19\n",
      "32 ... 18\n",
      "33 ... 17\n",
      "34 ... 16\n",
      "35 ... 15\n",
      "36 ... 14\n",
      "37 ... 13\n",
      "38 ... 12\n",
      "39 ... 11\n",
      "40 ... 10\n",
      "41 ... 9\n",
      "42 ... 8\n",
      "43 ... 7\n",
      "44 ... 6\n",
      "45 ... 5\n",
      "46 ... 4\n",
      "47 ... 3\n",
      "48 ... 2\n",
      "49 ... 1\n"
     ]
    }
   ],
   "source": [
    "n=int(input(\"enter n\"))\n",
    "a=n\n",
    "for i in range(1,n+1):\n",
    "    print(i,\"...\",a)\n",
    "    a=a-1"
   ]
  },
  {
   "cell_type": "code",
   "execution_count": null,
   "id": "c60dd2e7",
   "metadata": {},
   "outputs": [],
   "source": []
  }
 ],
 "metadata": {
  "kernelspec": {
   "display_name": "Python 3 (ipykernel)",
   "language": "python",
   "name": "python3"
  },
  "language_info": {
   "codemirror_mode": {
    "name": "ipython",
    "version": 3
   },
   "file_extension": ".py",
   "mimetype": "text/x-python",
   "name": "python",
   "nbconvert_exporter": "python",
   "pygments_lexer": "ipython3",
   "version": "3.11.4"
  }
 },
 "nbformat": 4,
 "nbformat_minor": 5
}
