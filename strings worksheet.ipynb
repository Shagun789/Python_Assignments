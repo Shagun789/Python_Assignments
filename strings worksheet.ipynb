{
 "cells": [
  {
   "cell_type": "code",
   "execution_count": 3,
   "id": "d1c437b8",
   "metadata": {},
   "outputs": [
    {
     "name": "stdout",
     "output_type": "stream",
     "text": [
      "enter anythingSHAGUN\n",
      "SHAGUN\n",
      "shagun\n"
     ]
    }
   ],
   "source": [
    "a=(input(\"enter anything\"))\n",
    "print(a.upper())\n",
    "print(a.lower())"
   ]
  },
  {
   "cell_type": "code",
   "execution_count": 7,
   "id": "f596f68d",
   "metadata": {},
   "outputs": [
    {
     "name": "stdout",
     "output_type": "stream",
     "text": [
      "enter anythingyou are a girl\n",
      "you#are#a#girl\n"
     ]
    }
   ],
   "source": [
    "a=(input(\"enter anything\"))\n",
    "print(a.replace(\" \",\"#\"))"
   ]
  },
  {
   "cell_type": "code",
   "execution_count": 2,
   "id": "08b0ee6f",
   "metadata": {},
   "outputs": [
    {
     "name": "stdout",
     "output_type": "stream",
     "text": [
      "enter anythingshagun\n",
      "frequency of vowels is 2\n"
     ]
    }
   ],
   "source": [
    "a=(input(\"enter anything\"))\n",
    "frequency=0\n",
    "vowels=\"aeiou\"\n",
    "for i in a:\n",
    "    if i in vowels:\n",
    "        frequency=frequency+1\n",
    "print(\"frequency of vowels is\", frequency)"
   ]
  },
  {
   "cell_type": "code",
   "execution_count": 22,
   "id": "5d6a7c8b",
   "metadata": {},
   "outputs": [
    {
     "name": "stdout",
     "output_type": "stream",
     "text": [
      " enter anything hello world\n",
      "11\n"
     ]
    }
   ],
   "source": [
    "x  =  input (\" enter anything \")\n",
    "count=0\n",
    "for i in x:\n",
    "    \n",
    "    count=count+1\n",
    "print(count)\n",
    "\n"
   ]
  },
  {
   "cell_type": "code",
   "execution_count": 23,
   "id": "b5f848f3",
   "metadata": {},
   "outputs": [
    {
     "name": "stdout",
     "output_type": "stream",
     "text": [
      "enter anythinghello world\n",
      "h ... 104\n",
      "e ... 101\n",
      "l ... 108\n",
      "l ... 108\n",
      "o ... 111\n",
      "  ... 32\n",
      "w ... 119\n",
      "o ... 111\n",
      "r ... 114\n",
      "l ... 108\n",
      "d ... 100\n"
     ]
    }
   ],
   "source": [
    "x=input(\"enter anything\")\n",
    "for i in x:\n",
    "    ascivalue=ord(i)\n",
    "    print(i,\"...\",ascivalue)"
   ]
  },
  {
   "cell_type": "code",
   "execution_count": 19,
   "id": "f96bea91",
   "metadata": {},
   "outputs": [
    {
     "name": "stdout",
     "output_type": "stream",
     "text": [
      "enter stringshagun\n",
      "shgn\n"
     ]
    }
   ],
   "source": [
    "x=input(\"enter string\")\n",
    "vowels=[\"a\",\"e\",\"i\",\"o\",\"u\",\"A\",\"E\",\"I\",\"O\",\"U\"]\n",
    "d=\"\"\n",
    "for i in x:\n",
    "    if i not in vowels:\n",
    "        d+=i\n",
    "print(result)"
   ]
  },
  {
   "cell_type": "code",
   "execution_count": 9,
   "id": "8f8a6091",
   "metadata": {},
   "outputs": [
    {
     "name": "stdout",
     "output_type": "stream",
     "text": [
      "enter anythingxyz\n",
      "enter anythingabc\n",
      "('abc', 'xyz')\n"
     ]
    }
   ],
   "source": [
    "s1=input(\"enter anything\")\n",
    "s2=input(\"enter anything\")\n",
    "c1=s2[:3]+s1[3:]\n",
    "c2=s1[:3]+s2[3:]\n",
    "result=c1,c2\n",
    "print(result)\n",
    "\n",
    "\n",
    "\n",
    "\n",
    "\n",
    "\n",
    "\n"
   ]
  },
  {
   "cell_type": "code",
   "execution_count": 2,
   "id": "98b9766e",
   "metadata": {},
   "outputs": [
    {
     "name": "stdout",
     "output_type": "stream",
     "text": [
      "Enteranythingplay\n",
      "playing\n"
     ]
    }
   ],
   "source": [
    "x=input(\"Enteranything\")\n",
    "\n",
    "if len(x)<3:\n",
    "    print(x)\n",
    "elif x[-3:]==\"ing\":\n",
    "    print(x+'ly')\n",
    "else:\n",
    "    print(x+'ing')\n",
    "\n",
    "\n",
    "    "
   ]
  },
  {
   "cell_type": "code",
   "execution_count": 10,
   "id": "131ce531",
   "metadata": {},
   "outputs": [
    {
     "name": "stdout",
     "output_type": "stream",
     "text": [
      "enter stringSHagun\n",
      "False\n",
      "False\n",
      "False\n",
      "False\n",
      "False\n",
      "False\n"
     ]
    }
   ],
   "source": [
    "x=input(\"enter string\")\n",
    "c=0\n",
    "for i in x:\n",
    "    if (i.isupper()):\n",
    "        c=c+1\n",
    "    if c<=2:\n",
    "        print(x.isupper())\n",
    "    else:\n",
    "        print(x)\n",
    "result=(x)\n",
    "\n",
    "\n"
   ]
  },
  {
   "cell_type": "code",
   "execution_count": 27,
   "id": "0baffaa0",
   "metadata": {},
   "outputs": [
    {
     "name": "stdout",
     "output_type": "stream",
     "text": [
      "Enter a stringshagun\n",
      "s is at 0\n",
      "h is at 1\n",
      "a is at 2\n",
      "g is at 3\n",
      "u is at 4\n",
      "n is at 5\n"
     ]
    }
   ],
   "source": [
    "s=input(\"Enter a string\")\n",
    "k=0\n",
    "\n",
    "for i in range(len(s)):\n",
    "    k = s[i]\n",
    "    print(k,\"is at\",i)\n",
    "          "
   ]
  },
  {
   "cell_type": "code",
   "execution_count": 5,
   "id": "8b82087c",
   "metadata": {},
   "outputs": [
    {
     "ename": "SyntaxError",
     "evalue": "invalid syntax (1186471025.py, line 6)",
     "output_type": "error",
     "traceback": [
      "\u001b[1;36m  Cell \u001b[1;32mIn[5], line 6\u001b[1;36m\u001b[0m\n\u001b[1;33m    elif u>=2:\u001b[0m\n\u001b[1;37m    ^\u001b[0m\n\u001b[1;31mSyntaxError\u001b[0m\u001b[1;31m:\u001b[0m invalid syntax\n"
     ]
    }
   ],
   "source": [
    "x=input(\"Enter anything: \")\n",
    "u=0\n",
    "for i in x[:4]:\n",
    "    if i.isupper():\n",
    "        u=u+1\n",
    "elif u>=2:\n",
    "    result=x.upper()\n",
    "else:\n",
    "    result=x\n",
    "print(\"uppercase string\",result)\n"
   ]
  },
  {
   "cell_type": "code",
   "execution_count": 1,
   "id": "9a1f8fb1",
   "metadata": {},
   "outputs": [
    {
     "name": "stdout",
     "output_type": "stream",
     "text": [
      "enter stringshagun\n",
      "enter position0\n",
      "hagun\n"
     ]
    }
   ],
   "source": [
    "s=input(\"enter string\")\n",
    "x=\"\"\n",
    "n=int(input(\"enter position\"))\n",
    "for i in range(len(s)):\n",
    "    if i==n:\n",
    "        pass\n",
    "    else:\n",
    "        x=x+s[i]\n",
    "print(x)\n"
   ]
  },
  {
   "cell_type": "code",
   "execution_count": 3,
   "id": "d5502da6",
   "metadata": {},
   "outputs": [
    {
     "name": "stdout",
     "output_type": "stream",
     "text": [
      "['Robert', 'Brett', 'Roser']\n",
      "R.B.Roser.\n"
     ]
    }
   ],
   "source": [
    "n=\"Robert Brett Roser\"\n",
    "s=\"\"\n",
    "c=0\n",
    "a=n.split(\" \")\n",
    "print(a)\n",
    "for i in a:\n",
    "    s=s+i[0]+\".\"\n",
    "    c=c+1\n",
    "    if c==2:\n",
    "        s=s+a[-1]+\".\"\n",
    "        break\n",
    "print(s)"
   ]
  },
  {
   "cell_type": "code",
   "execution_count": 1,
   "id": "8065eb80",
   "metadata": {},
   "outputs": [
    {
     "name": "stdout",
     "output_type": "stream",
     "text": [
      "enter you nameshagun\n",
      "s\n",
      "h\n",
      "g\n",
      "n\n"
     ]
    }
   ],
   "source": [
    "a=(input(\"enter you name\"))\n",
    "for i in a:\n",
    "    if i==\"i\" or i==\"a\" or i==\"e\" or i==\"o\" or i==\"u\":\n",
    "        pass\n",
    "    else:\n",
    "        print(i)\n",
    "    \n"
   ]
  },
  {
   "cell_type": "code",
   "execution_count": null,
   "id": "af2512b1",
   "metadata": {},
   "outputs": [],
   "source": []
  }
 ],
 "metadata": {
  "kernelspec": {
   "display_name": "Python 3 (ipykernel)",
   "language": "python",
   "name": "python3"
  },
  "language_info": {
   "codemirror_mode": {
    "name": "ipython",
    "version": 3
   },
   "file_extension": ".py",
   "mimetype": "text/x-python",
   "name": "python",
   "nbconvert_exporter": "python",
   "pygments_lexer": "ipython3",
   "version": "3.11.4"
  }
 },
 "nbformat": 4,
 "nbformat_minor": 5
}
